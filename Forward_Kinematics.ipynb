{
  "nbformat": 4,
  "nbformat_minor": 0,
  "metadata": {
    "colab": {
      "name": "Forward_Kinematics.ipynb",
      "provenance": []
    },
    "kernelspec": {
      "name": "python3",
      "display_name": "Python 3"
    },
    "language_info": {
      "name": "python"
    }
  },
  "cells": [
    {
      "cell_type": "code",
      "execution_count": 11,
      "metadata": {
        "id": "2HRPgjiGFeBW"
      },
      "outputs": [],
      "source": [
        "# Importing the Required Libraries\n",
        "import math\n",
        "import numpy as np"
      ]
    },
    {
      "cell_type": "code",
      "source": [
        "# Setting the Values of theta for each of the Revolute Joints (1 per DoF: 7 total)\n",
        "theta1 = 0\n",
        "theta2 = 0\n",
        "theta3 = 0\n",
        "theta4 = 0\n",
        "theta5 = 0\n",
        "theta6 = 0\n",
        "theta7 = 0\n",
        "\n",
        "# This is the Home Position of the Robot Chosen\n",
        "# Other Configurations can be chosen by Adjusting these Parameters"
      ],
      "metadata": {
        "id": "YCaDTRv5HE0P"
      },
      "execution_count": 12,
      "outputs": []
    },
    {
      "cell_type": "code",
      "source": [
        "# Loading the DH Parameter Table for the 'Franka Emika Panda' Robot as a NumPy Array\n",
        "# Each Row Represents [a(i-1) alpha(i-1) d(i) theta(i)] for each of the Joints\n",
        "# Last Row are the DH Parameters for the End Effector from the last Joint\n",
        "dh_table = np.array([[0,       0,            0.333, theta1], # Joint 1\n",
        "                     [0,       -(math.pi)/2, 0,     theta2], # Joint 2\n",
        "                     [0,       (math.pi)/2,  0.316, theta3], # Joint 3\n",
        "                     [0.0825,  (math.pi)/2,  0,     theta4], # Joint 4\n",
        "                     [-0.0825, -(math.pi)/2, 0.384, theta5], # Joint 5\n",
        "                     [0,       (math.pi)/2,  0,     theta6], # Joint 6\n",
        "                     [0.088,   (math.pi)/2,  0,     theta7], # Joint 7\n",
        "                     [0,       0,            0, 0]])      # End Effector"
      ],
      "metadata": {
        "id": "POTaC1gZGOVQ"
      },
      "execution_count": 13,
      "outputs": []
    },
    {
      "cell_type": "code",
      "source": [
        "# Simple Function for Sin Theta\n",
        "def sin(theta):\n",
        "  return math.sin(theta)\n",
        "\n",
        "# Simple Function for Cos Theta\n",
        "def cos(theta):\n",
        "  return math.cos(theta)\n",
        "\n",
        "# Function to Calculate the Transformation Matrix between Joint i-1 & i\n",
        "def link_transformation_matrix(dh_parameters):\n",
        "  a     = dh_parameters[0]\n",
        "  alpha = dh_parameters[1]\n",
        "  d     = dh_parameters[2]\n",
        "  theta = dh_parameters[3]\n",
        "  matrix = np.array([[cos(theta),            -sin(theta),           0,           a],\n",
        "                     [sin(theta)*cos(alpha), cos(theta)*cos(alpha), -sin(alpha), -sin(alpha)*d],\n",
        "                     [sin(theta)*sin(alpha), cos(theta)*sin(alpha), cos(alpha),  cos(alpha)*d],\n",
        "                     [0,                     0,                     0,           1]])\n",
        "  print(\"Intermediate Transformation Matrix:\\n{}\".format(matrix))\n",
        "  return matrix\n",
        "\n",
        "# Function to get the Total Transformation Matrix for the System\n",
        "def transformation_matrix(dh_parameter_table):\n",
        "  matrix = np.eye(4)\n",
        "  for i in reversed(range(dh_parameter_table.shape[0])):\n",
        "    matrix = np.dot(link_transformation_matrix(dh_parameter_table[i]),matrix)\n",
        "  print(\"Final/Overall Transformation Matrix:\\n{}\".format(matrix))\n",
        "  return matrix\n",
        "\n",
        "# Calcuating the Position of a Point based in the Last Frame (8) wrt to the Ground Frame (0)\n",
        "def calculate_ground_coordinates(x,y,z,transformation_matrix):\n",
        "  ground_coords = np.dot(transformation_matrix,np.array([[x],[y],[z],[1.0]]))\n",
        "  return (ground_coords[0,0], ground_coords[1,0], ground_coords[2][0])\n"
      ],
      "metadata": {
        "id": "ZkVzd1qaGFkz"
      },
      "execution_count": 14,
      "outputs": []
    },
    {
      "cell_type": "code",
      "source": [
        "# Case1 : Using all the 7 Frames\n",
        "# Loading the DH Parameter Table for the 'Franka Emika Panda' Robot as a NumPy Array\n",
        "# Each Row Represents [a(i-1) alpha(i-1) d(i) theta(i)] for each of the Joints\n",
        "# Last Row are the DH Parameters for the End Effector from the last Joint\n",
        "dh_table = np.array([[0,       0,            0.333, theta1], # Joint 1\n",
        "                     [0,       -(math.pi)/2, 0,     theta2], # Joint 2\n",
        "                     [0,       (math.pi)/2,  0.316, theta3], # Joint 3\n",
        "                     [0.0825,  (math.pi)/2,  0,     theta4], # Joint 4\n",
        "                     [-0.0825, -(math.pi)/2, 0.384, theta5], # Joint 5\n",
        "                     [0,       (math.pi)/2,  0,     theta6], # Joint 6\n",
        "                     [0.088,   (math.pi)/2,  0,     theta7], # Joint 7\n",
        "                     [0,       0,            0, 0]])      # End Effector (Origin of the last frame)"
      ],
      "metadata": {
        "id": "xzC9atoz_pYQ"
      },
      "execution_count": 15,
      "outputs": []
    },
    {
      "cell_type": "code",
      "source": [
        "# Calculating the Transformation Matrix for the Robotic System\n",
        "system_transformation_matrix = transformation_matrix(dh_table)"
      ],
      "metadata": {
        "id": "lxYjXz_nbbRK",
        "colab": {
          "base_uri": "https://localhost:8080/"
        },
        "outputId": "3878979e-412b-4adc-a4c8-53f467e6882a"
      },
      "execution_count": 16,
      "outputs": [
        {
          "output_type": "stream",
          "name": "stdout",
          "text": [
            "Intermediate Transformation Matrix:\n",
            "[[ 1. -0.  0.  0.]\n",
            " [ 0.  1. -0. -0.]\n",
            " [ 0.  0.  1.  0.]\n",
            " [ 0.  0.  0.  1.]]\n",
            "Intermediate Transformation Matrix:\n",
            "[[ 1.000000e+00 -0.000000e+00  0.000000e+00  8.800000e-02]\n",
            " [ 0.000000e+00  6.123234e-17 -1.000000e+00 -0.000000e+00]\n",
            " [ 0.000000e+00  1.000000e+00  6.123234e-17  0.000000e+00]\n",
            " [ 0.000000e+00  0.000000e+00  0.000000e+00  1.000000e+00]]\n",
            "Intermediate Transformation Matrix:\n",
            "[[ 1.000000e+00 -0.000000e+00  0.000000e+00  0.000000e+00]\n",
            " [ 0.000000e+00  6.123234e-17 -1.000000e+00 -0.000000e+00]\n",
            " [ 0.000000e+00  1.000000e+00  6.123234e-17  0.000000e+00]\n",
            " [ 0.000000e+00  0.000000e+00  0.000000e+00  1.000000e+00]]\n",
            "Intermediate Transformation Matrix:\n",
            "[[ 1.00000000e+00 -0.00000000e+00  0.00000000e+00 -8.25000000e-02]\n",
            " [ 0.00000000e+00  6.12323400e-17  1.00000000e+00  3.84000000e-01]\n",
            " [-0.00000000e+00 -1.00000000e+00  6.12323400e-17  2.35132185e-17]\n",
            " [ 0.00000000e+00  0.00000000e+00  0.00000000e+00  1.00000000e+00]]\n",
            "Intermediate Transformation Matrix:\n",
            "[[ 1.000000e+00 -0.000000e+00  0.000000e+00  8.250000e-02]\n",
            " [ 0.000000e+00  6.123234e-17 -1.000000e+00 -0.000000e+00]\n",
            " [ 0.000000e+00  1.000000e+00  6.123234e-17  0.000000e+00]\n",
            " [ 0.000000e+00  0.000000e+00  0.000000e+00  1.000000e+00]]\n",
            "Intermediate Transformation Matrix:\n",
            "[[ 1.00000000e+00 -0.00000000e+00  0.00000000e+00  0.00000000e+00]\n",
            " [ 0.00000000e+00  6.12323400e-17 -1.00000000e+00 -3.16000000e-01]\n",
            " [ 0.00000000e+00  1.00000000e+00  6.12323400e-17  1.93494194e-17]\n",
            " [ 0.00000000e+00  0.00000000e+00  0.00000000e+00  1.00000000e+00]]\n",
            "Intermediate Transformation Matrix:\n",
            "[[ 1.000000e+00 -0.000000e+00  0.000000e+00  0.000000e+00]\n",
            " [ 0.000000e+00  6.123234e-17  1.000000e+00  0.000000e+00]\n",
            " [-0.000000e+00 -1.000000e+00  6.123234e-17  0.000000e+00]\n",
            " [ 0.000000e+00  0.000000e+00  0.000000e+00  1.000000e+00]]\n",
            "Intermediate Transformation Matrix:\n",
            "[[ 1.    -0.     0.     0.   ]\n",
            " [ 0.     1.    -0.    -0.   ]\n",
            " [ 0.     0.     1.     0.333]\n",
            " [ 0.     0.     0.     1.   ]]\n",
            "Final/Overall Transformation Matrix:\n",
            "[[ 1.00000000e+00  0.00000000e+00  0.00000000e+00  8.80000000e-02]\n",
            " [ 0.00000000e+00 -1.00000000e+00 -1.22464680e-16  6.16297582e-33]\n",
            " [ 0.00000000e+00  1.22464680e-16 -1.00000000e+00  1.03300000e+00]\n",
            " [ 0.00000000e+00  0.00000000e+00  0.00000000e+00  1.00000000e+00]]\n"
          ]
        }
      ]
    },
    {
      "cell_type": "code",
      "source": [
        "# Verifying the Position of the Origin of the End Effector\n",
        "print(\"Position of Origin i.e. (0,0,0) of End Effector's Frame in Ground Coordinates: {}\".format(calculate_ground_coordinates(0,0,0,system_transformation_matrix)))"
      ],
      "metadata": {
        "colab": {
          "base_uri": "https://localhost:8080/"
        },
        "id": "8kp2p6DgRu-Y",
        "outputId": "539f2cf4-a62a-4aca-b07b-2d80592317e9"
      },
      "execution_count": 17,
      "outputs": [
        {
          "output_type": "stream",
          "name": "stdout",
          "text": [
            "Position of Origin i.e. (0,0,0) of End Effector's Frame in Ground Coordinates: (0.088, 6.162975822039155e-33, 1.033)\n"
          ]
        }
      ]
    },
    {
      "cell_type": "code",
      "source": [
        "# Case2 : Using only the first 2 frames\n",
        "# Loading the DH Parameter Table for the 'Franka Emika Panda' Robot as a NumPy Array\n",
        "# Each Row Represents [a(i-1) alpha(i-1) d(i) theta(i)] for each of the Joints\n",
        "# Last Row are the DH Parameters for the End Effector from the last Joint\n",
        "dh_table = np.array([[0,       0,            0.333, theta1], # Joint 1\n",
        "                     [0,       -(math.pi)/2, 0,     theta2], # Joint 2\n",
        "                     [0,       0,            0, 0]])      # End Effector (Origin of the last frame)"
      ],
      "metadata": {
        "id": "tnOHMRV2R1Xs"
      },
      "execution_count": 18,
      "outputs": []
    },
    {
      "cell_type": "code",
      "source": [
        "# Calculating the Transformation Matrix for the Robotic System\n",
        "system_transformation_matrix = transformation_matrix(dh_table)"
      ],
      "metadata": {
        "colab": {
          "base_uri": "https://localhost:8080/"
        },
        "id": "BgH7ESEzADrz",
        "outputId": "159753f5-06ee-4ed6-d578-1f3095abb377"
      },
      "execution_count": 19,
      "outputs": [
        {
          "output_type": "stream",
          "name": "stdout",
          "text": [
            "Intermediate Transformation Matrix:\n",
            "[[ 1. -0.  0.  0.]\n",
            " [ 0.  1. -0. -0.]\n",
            " [ 0.  0.  1.  0.]\n",
            " [ 0.  0.  0.  1.]]\n",
            "Intermediate Transformation Matrix:\n",
            "[[ 1.000000e+00 -0.000000e+00  0.000000e+00  0.000000e+00]\n",
            " [ 0.000000e+00  6.123234e-17  1.000000e+00  0.000000e+00]\n",
            " [-0.000000e+00 -1.000000e+00  6.123234e-17  0.000000e+00]\n",
            " [ 0.000000e+00  0.000000e+00  0.000000e+00  1.000000e+00]]\n",
            "Intermediate Transformation Matrix:\n",
            "[[ 1.    -0.     0.     0.   ]\n",
            " [ 0.     1.    -0.    -0.   ]\n",
            " [ 0.     0.     1.     0.333]\n",
            " [ 0.     0.     0.     1.   ]]\n",
            "Final/Overall Transformation Matrix:\n",
            "[[ 1.000000e+00  0.000000e+00  0.000000e+00  0.000000e+00]\n",
            " [ 0.000000e+00  6.123234e-17  1.000000e+00  0.000000e+00]\n",
            " [ 0.000000e+00 -1.000000e+00  6.123234e-17  3.330000e-01]\n",
            " [ 0.000000e+00  0.000000e+00  0.000000e+00  1.000000e+00]]\n"
          ]
        }
      ]
    },
    {
      "cell_type": "code",
      "source": [
        "# Verifying the Position of the Origin of the End Effector\n",
        "print(\"Position of Origin i.e. (0,0,0) of End Effector's Frame in Ground Coordinates: {}\".format(calculate_ground_coordinates(0,0,0,system_transformation_matrix)))"
      ],
      "metadata": {
        "colab": {
          "base_uri": "https://localhost:8080/"
        },
        "id": "bVOsEgJpAExC",
        "outputId": "9df5ea8b-151d-42c8-863d-0fca6afb287b"
      },
      "execution_count": 20,
      "outputs": [
        {
          "output_type": "stream",
          "name": "stdout",
          "text": [
            "Position of Origin i.e. (0,0,0) of End Effector's Frame in Ground Coordinates: (0.0, 0.0, 0.333)\n"
          ]
        }
      ]
    },
    {
      "cell_type": "code",
      "source": [
        ""
      ],
      "metadata": {
        "id": "bw7HusRoAwIT"
      },
      "execution_count": 10,
      "outputs": []
    }
  ]
}